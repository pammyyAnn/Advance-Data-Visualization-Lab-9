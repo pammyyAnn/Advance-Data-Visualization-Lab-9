{
  "nbformat": 4,
  "nbformat_minor": 0,
  "metadata": {
    "colab": {
      "provenance": [],
      "authorship_tag": "ABX9TyNtc293FwzIKMBU92JpTIpr",
      "include_colab_link": true
    },
    "kernelspec": {
      "name": "python3",
      "display_name": "Python 3"
    },
    "language_info": {
      "name": "python"
    }
  },
  "cells": [
    {
      "cell_type": "markdown",
      "metadata": {
        "id": "view-in-github",
        "colab_type": "text"
      },
      "source": [
        "<a href=\"https://colab.research.google.com/github/pammyyAnn/Advance-Data-Visualization-Lab-9/blob/main/Advance_Data_Visualization_Lab_9.ipynb\" target=\"_parent\"><img src=\"https://colab.research.google.com/assets/colab-badge.svg\" alt=\"Open In Colab\"/></a>"
      ]
    },
    {
      "cell_type": "code",
      "source": [
        "\n",
        "z=[3,7,4,2]\n",
        "\n",
        "print(z)\n",
        "print(z[::])\n",
        "\n",
        "z[0]\n",
        "z[-1]\n",
        "\n",
        "print(z [0:2])\n",
        "print(z [0:1])\n",
        "print(z [0:3])\n",
        "print(z [0:4])\n",
        "\n",
        "z [:3]\n",
        "z [1:]\n",
        "z [1] = \"fish\"\n",
        "print(z)\n",
        "\n",
        "heterogenousElements = [3, True, 'Michael', 2.0]\n",
        "heterogenousElements\n",
        "\n",
        "z = [4, 1, 5, 4, 10, 4]\n",
        "z.index(4)\n",
        "\n",
        "z = [4, 1, 5, 4, 10, 4]\n",
        "z.index(4, 2)\n",
        "\n",
        "SampleList = [50, 70, 30, 20, 90, 10, 50]\n",
        "\n",
        "print(SampleList[1:5])\n",
        "\n",
        "Lst = [50, 70, 30, 20, 90, 10, 50]\n",
        "print(Lst[-7::1])\n"
      ],
      "metadata": {
        "colab": {
          "base_uri": "https://localhost:8080/"
        },
        "id": "f-SVjYNKoeA3",
        "outputId": "17f6bca0-9235-4210-d662-5a840327a26f"
      },
      "execution_count": 7,
      "outputs": [
        {
          "output_type": "stream",
          "name": "stdout",
          "text": [
            "[3, 7, 4, 2]\n",
            "[3, 7, 4, 2]\n",
            "[3, 7]\n",
            "[3]\n",
            "[3, 7, 4]\n",
            "[3, 7, 4, 2]\n",
            "[3, 'fish', 4, 2]\n",
            "[70, 30, 20, 90]\n",
            "[50, 70, 30, 20, 90, 10, 50]\n"
          ]
        }
      ]
    }
  ]
}